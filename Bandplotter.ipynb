{
 "cells": [
  {
   "cell_type": "code",
   "execution_count": 1,
   "metadata": {
    "collapsed": true
   },
   "outputs": [],
   "source": [
    "import numpy as np\n",
    "import matplotlib.pyplot as plt"
   ]
  },
  {
   "cell_type": "code",
   "execution_count": 22,
   "metadata": {
    "collapsed": true
   },
   "outputs": [],
   "source": [
    "basis = np.loadtxt(\"./Kronig-Penney-Model/Build/BASISFILE\", dtype = 'float')\n",
    "waves = np.loadtxt(\"./Kronig-Penney-Model/Build/WAVEFILE\", dtype = 'float')\n",
    "potential = np.loadtxt(\"./Kronig-Penney-Model/Build/POTENTIALFILE\", dtype = 'float', skiprows = 1)[0]\n",
    "\n",
    "B = waves[:,0:3]\n",
    "\n",
    "Q = waves[:,0:3]\n",
    "E = waves[:,3]\n",
    "\n",
    "for i,q in enumerate(Q):\n",
    "    plt.scatter(q[0],E[i])\n",
    "for i,b in enumerate(B):\n",
    "    plt.scatter(b[0],E[i],color='g')\n"
   ]
  },
  {
   "cell_type": "code",
   "execution_count": 23,
   "metadata": {},
   "outputs": [
    {
     "data": {
      "image/png": "[encoded data removed]",
      "text/plain": [
       "<matplotlib.figure.Figure at 0x7fc4d59117d0>"
      ]
     },
     "metadata": {},
     "output_type": "display_data"
    }
   ],
   "source": [
    "plt.xlim(-0.5,0.5)\n",
    "plt.ylim(9,10)\n",
    "plt.show()"
   ]
  },
  {
   "cell_type": "code",
   "execution_count": null,
   "metadata": {
    "collapsed": true
   },
   "outputs": [],
   "source": []
  }
 ],
 "metadata": {
  "kernelspec": {
   "display_name": "Python 3",
   "language": "python",
   "name": "python3"
  },
  "language_info": {
   "codemirror_mode": {
    "name": "ipython",
    "version": 2
   },
   "file_extension": ".py",
   "mimetype": "text/x-python",
   "name": "python",
   "nbconvert_exporter": "python",
   "pygments_lexer": "ipython2",
   "version": "2.7.12"
  }
 },
 "nbformat": 4,
 "nbformat_minor": 2
}
